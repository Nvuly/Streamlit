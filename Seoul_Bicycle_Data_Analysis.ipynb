{
 "cells": [
  {
   "cell_type": "code",
   "execution_count": 70,
   "metadata": {},
   "outputs": [],
   "source": [
    "import pandas as pd\n",
    "import numpy as np\n",
    "import matplotlib.pyplot as plt\n",
    "import seaborn as sns\n",
    "import os\n",
    "import random\n",
    "#-----한글깨짐방지 코드라인-----\n",
    "from matplotlib import font_manager, rc\n",
    "\n",
    "font_name = font_manager.FontProperties(fname=\"c:/Windows/Fonts/malgun.ttf\").get_name()\n",
    "rc('font', family=font_name)\n"
   ]
  },
  {
   "cell_type": "markdown",
   "metadata": {},
   "source": [
    "## Load Data"
   ]
  },
  {
   "cell_type": "code",
   "execution_count": 71,
   "metadata": {},
   "outputs": [
    {
     "data": {
      "text/html": [
       "<div>\n",
       "<style scoped>\n",
       "    .dataframe tbody tr th:only-of-type {\n",
       "        vertical-align: middle;\n",
       "    }\n",
       "\n",
       "    .dataframe tbody tr th {\n",
       "        vertical-align: top;\n",
       "    }\n",
       "\n",
       "    .dataframe thead th {\n",
       "        text-align: right;\n",
       "    }\n",
       "</style>\n",
       "<table border=\"1\" class=\"dataframe\">\n",
       "  <thead>\n",
       "    <tr style=\"text-align: right;\">\n",
       "      <th></th>\n",
       "      <th>대여소_ID</th>\n",
       "      <th>주소1</th>\n",
       "      <th>주소2</th>\n",
       "      <th>위도</th>\n",
       "      <th>경도</th>\n",
       "    </tr>\n",
       "  </thead>\n",
       "  <tbody>\n",
       "    <tr>\n",
       "      <th>0</th>\n",
       "      <td>ST-999</td>\n",
       "      <td>서울특별시 양천구 목동서로 280</td>\n",
       "      <td>목동아파트 8단지 상가동</td>\n",
       "      <td>0.000000</td>\n",
       "      <td>0.000000</td>\n",
       "    </tr>\n",
       "    <tr>\n",
       "      <th>1</th>\n",
       "      <td>ST-998</td>\n",
       "      <td>서울특별시 양천구 목동서로 130</td>\n",
       "      <td>목동아파트 4단지 상가동</td>\n",
       "      <td>0.000000</td>\n",
       "      <td>0.000000</td>\n",
       "    </tr>\n",
       "    <tr>\n",
       "      <th>2</th>\n",
       "      <td>ST-997</td>\n",
       "      <td>서울특별시 양천구 목동중앙로 49</td>\n",
       "      <td>목동3단지 시내버스정류장</td>\n",
       "      <td>37.534390</td>\n",
       "      <td>126.869598</td>\n",
       "    </tr>\n",
       "    <tr>\n",
       "      <th>3</th>\n",
       "      <td>ST-996</td>\n",
       "      <td>서울특별시 양천구 남부순환로88길5-16</td>\n",
       "      <td>양강중학교앞 교차로</td>\n",
       "      <td>37.524334</td>\n",
       "      <td>126.850548</td>\n",
       "    </tr>\n",
       "    <tr>\n",
       "      <th>4</th>\n",
       "      <td>ST-995</td>\n",
       "      <td>서울특별시 양천구 중앙로 153 공중화장실</td>\n",
       "      <td>NaN</td>\n",
       "      <td>37.510597</td>\n",
       "      <td>126.857323</td>\n",
       "    </tr>\n",
       "    <tr>\n",
       "      <th>...</th>\n",
       "      <td>...</td>\n",
       "      <td>...</td>\n",
       "      <td>...</td>\n",
       "      <td>...</td>\n",
       "      <td>...</td>\n",
       "    </tr>\n",
       "    <tr>\n",
       "      <th>3265</th>\n",
       "      <td>ST-1002</td>\n",
       "      <td>서울특별시 양천구 목동동로 316-6</td>\n",
       "      <td>서울시 도로환경관리센터</td>\n",
       "      <td>37.529900</td>\n",
       "      <td>126.876541</td>\n",
       "    </tr>\n",
       "    <tr>\n",
       "      <th>3266</th>\n",
       "      <td>ST-1001</td>\n",
       "      <td>서울특별시 양천구 남부순환로4길20</td>\n",
       "      <td>서서울호수공원</td>\n",
       "      <td>0.000000</td>\n",
       "      <td>0.000000</td>\n",
       "    </tr>\n",
       "    <tr>\n",
       "      <th>3267</th>\n",
       "      <td>ST-1000</td>\n",
       "      <td>서울특별시 양천구 신정동 236</td>\n",
       "      <td>서부식자재마트 건너편</td>\n",
       "      <td>37.510380</td>\n",
       "      <td>126.866798</td>\n",
       "    </tr>\n",
       "    <tr>\n",
       "      <th>3268</th>\n",
       "      <td>ST-100</td>\n",
       "      <td>서울특별시 광진구 아차산로 262</td>\n",
       "      <td>더샵스타시티 C동 앞</td>\n",
       "      <td>37.536667</td>\n",
       "      <td>127.073593</td>\n",
       "    </tr>\n",
       "    <tr>\n",
       "      <th>3269</th>\n",
       "      <td>ST-10</td>\n",
       "      <td>서울특별시 마포구 양화로 93</td>\n",
       "      <td>427</td>\n",
       "      <td>37.552746</td>\n",
       "      <td>126.918617</td>\n",
       "    </tr>\n",
       "  </tbody>\n",
       "</table>\n",
       "<p>3270 rows × 5 columns</p>\n",
       "</div>"
      ],
      "text/plain": [
       "       대여소_ID                      주소1            주소2         위도          경도\n",
       "0      ST-999       서울특별시 양천구 목동서로 280  목동아파트 8단지 상가동   0.000000    0.000000\n",
       "1      ST-998       서울특별시 양천구 목동서로 130  목동아파트 4단지 상가동   0.000000    0.000000\n",
       "2      ST-997       서울특별시 양천구 목동중앙로 49  목동3단지 시내버스정류장  37.534390  126.869598\n",
       "3      ST-996   서울특별시 양천구 남부순환로88길5-16     양강중학교앞 교차로  37.524334  126.850548\n",
       "4      ST-995  서울특별시 양천구 중앙로 153 공중화장실            NaN  37.510597  126.857323\n",
       "...       ...                      ...            ...        ...         ...\n",
       "3265  ST-1002     서울특별시 양천구 목동동로 316-6   서울시 도로환경관리센터  37.529900  126.876541\n",
       "3266  ST-1001      서울특별시 양천구 남부순환로4길20        서서울호수공원   0.000000    0.000000\n",
       "3267  ST-1000        서울특별시 양천구 신정동 236    서부식자재마트 건너편  37.510380  126.866798\n",
       "3268   ST-100       서울특별시 광진구 아차산로 262    더샵스타시티 C동 앞  37.536667  127.073593\n",
       "3269    ST-10         서울특별시 마포구 양화로 93            427  37.552746  126.918617\n",
       "\n",
       "[3270 rows x 5 columns]"
      ]
     },
     "execution_count": 71,
     "metadata": {},
     "output_type": "execute_result"
    }
   ],
   "source": [
    "master_path = 'D:\\Code\\(최종)따릉이/서울시 따릉이대여소 마스터 정보.csv'\n",
    "\n",
    "df_master = pd.read_csv(master_path,encoding='cp949')\n",
    "\n",
    "df_master"
   ]
  },
  {
   "cell_type": "markdown",
   "metadata": {},
   "source": [
    "## 서울시 따릉이 일별 이용 현황(20240104)"
   ]
  },
  {
   "cell_type": "code",
   "execution_count": 72,
   "metadata": {},
   "outputs": [
    {
     "data": {
      "text/html": [
       "<div>\n",
       "<style scoped>\n",
       "    .dataframe tbody tr th:only-of-type {\n",
       "        vertical-align: middle;\n",
       "    }\n",
       "\n",
       "    .dataframe tbody tr th {\n",
       "        vertical-align: top;\n",
       "    }\n",
       "\n",
       "    .dataframe thead th {\n",
       "        text-align: right;\n",
       "    }\n",
       "</style>\n",
       "<table border=\"1\" class=\"dataframe\">\n",
       "  <thead>\n",
       "    <tr style=\"text-align: right;\">\n",
       "      <th></th>\n",
       "      <th>기준_날짜</th>\n",
       "      <th>집계_기준</th>\n",
       "      <th>기준_시간대</th>\n",
       "      <th>시작_대여소_ID</th>\n",
       "      <th>시작_대여소명</th>\n",
       "      <th>종료_대여소_ID</th>\n",
       "      <th>종료_대여소명</th>\n",
       "      <th>전체_건수</th>\n",
       "      <th>전체_이용_분</th>\n",
       "      <th>전체_이용_거리</th>\n",
       "    </tr>\n",
       "  </thead>\n",
       "  <tbody>\n",
       "    <tr>\n",
       "      <th>0</th>\n",
       "      <td>20240104</td>\n",
       "      <td>출발시간</td>\n",
       "      <td>0</td>\n",
       "      <td>ST-1014</td>\n",
       "      <td>신정3동_101_1</td>\n",
       "      <td>ST-676</td>\n",
       "      <td>고척2동_035_1</td>\n",
       "      <td>1</td>\n",
       "      <td>6</td>\n",
       "      <td>2320</td>\n",
       "    </tr>\n",
       "    <tr>\n",
       "      <th>1</th>\n",
       "      <td>20240104</td>\n",
       "      <td>출발시간</td>\n",
       "      <td>0</td>\n",
       "      <td>ST-1017</td>\n",
       "      <td>목5동_059_1</td>\n",
       "      <td>ST-310</td>\n",
       "      <td>목4동_047_1</td>\n",
       "      <td>1</td>\n",
       "      <td>6</td>\n",
       "      <td>909</td>\n",
       "    </tr>\n",
       "    <tr>\n",
       "      <th>2</th>\n",
       "      <td>20240104</td>\n",
       "      <td>출발시간</td>\n",
       "      <td>0</td>\n",
       "      <td>ST-1055</td>\n",
       "      <td>강일동_001_1</td>\n",
       "      <td>ST-2744</td>\n",
       "      <td>강일동_001_5</td>\n",
       "      <td>1</td>\n",
       "      <td>93</td>\n",
       "      <td>12860</td>\n",
       "    </tr>\n",
       "    <tr>\n",
       "      <th>3</th>\n",
       "      <td>20240104</td>\n",
       "      <td>출발시간</td>\n",
       "      <td>0</td>\n",
       "      <td>ST-1082</td>\n",
       "      <td>장지동_019_1</td>\n",
       "      <td>ST-2599</td>\n",
       "      <td>장지동_012_3</td>\n",
       "      <td>1</td>\n",
       "      <td>5</td>\n",
       "      <td>910</td>\n",
       "    </tr>\n",
       "    <tr>\n",
       "      <th>4</th>\n",
       "      <td>20240104</td>\n",
       "      <td>출발시간</td>\n",
       "      <td>0</td>\n",
       "      <td>ST-1092</td>\n",
       "      <td>풍납2동_026_1</td>\n",
       "      <td>ST-502</td>\n",
       "      <td>성내1동_007_1</td>\n",
       "      <td>1</td>\n",
       "      <td>5</td>\n",
       "      <td>1063</td>\n",
       "    </tr>\n",
       "    <tr>\n",
       "      <th>...</th>\n",
       "      <td>...</td>\n",
       "      <td>...</td>\n",
       "      <td>...</td>\n",
       "      <td>...</td>\n",
       "      <td>...</td>\n",
       "      <td>...</td>\n",
       "      <td>...</td>\n",
       "      <td>...</td>\n",
       "      <td>...</td>\n",
       "      <td>...</td>\n",
       "    </tr>\n",
       "    <tr>\n",
       "      <th>180069</th>\n",
       "      <td>20240104</td>\n",
       "      <td>도착시간</td>\n",
       "      <td>2355</td>\n",
       "      <td>ST-914</td>\n",
       "      <td>상계5동_036_1</td>\n",
       "      <td>ST-2711</td>\n",
       "      <td>중계1동_001_1</td>\n",
       "      <td>1</td>\n",
       "      <td>30</td>\n",
       "      <td>1633</td>\n",
       "    </tr>\n",
       "    <tr>\n",
       "      <th>180070</th>\n",
       "      <td>20240104</td>\n",
       "      <td>도착시간</td>\n",
       "      <td>2355</td>\n",
       "      <td>ST-935</td>\n",
       "      <td>방배4동_002_1</td>\n",
       "      <td>ST-1916</td>\n",
       "      <td>방배본동_030_1</td>\n",
       "      <td>1</td>\n",
       "      <td>5</td>\n",
       "      <td>1961</td>\n",
       "    </tr>\n",
       "    <tr>\n",
       "      <th>180071</th>\n",
       "      <td>20240104</td>\n",
       "      <td>도착시간</td>\n",
       "      <td>2355</td>\n",
       "      <td>ST-942</td>\n",
       "      <td>면목5동_015_1</td>\n",
       "      <td>ST-262</td>\n",
       "      <td>장안2동_053_1</td>\n",
       "      <td>1</td>\n",
       "      <td>19</td>\n",
       "      <td>2777</td>\n",
       "    </tr>\n",
       "    <tr>\n",
       "      <th>180072</th>\n",
       "      <td>20240104</td>\n",
       "      <td>도착시간</td>\n",
       "      <td>2355</td>\n",
       "      <td>ST-96</td>\n",
       "      <td>상암동_060_1</td>\n",
       "      <td>ST-3272</td>\n",
       "      <td>성산2동_038_1</td>\n",
       "      <td>1</td>\n",
       "      <td>4</td>\n",
       "      <td>607</td>\n",
       "    </tr>\n",
       "    <tr>\n",
       "      <th>180073</th>\n",
       "      <td>20240104</td>\n",
       "      <td>도착시간</td>\n",
       "      <td>2355</td>\n",
       "      <td>ST-997</td>\n",
       "      <td>목4동_021_1</td>\n",
       "      <td>ST-1013</td>\n",
       "      <td>목3동_003_1</td>\n",
       "      <td>1</td>\n",
       "      <td>14</td>\n",
       "      <td>2660</td>\n",
       "    </tr>\n",
       "  </tbody>\n",
       "</table>\n",
       "<p>180074 rows × 10 columns</p>\n",
       "</div>"
      ],
      "text/plain": [
       "           기준_날짜 집계_기준  기준_시간대 시작_대여소_ID     시작_대여소명 종료_대여소_ID     종료_대여소명  \\\n",
       "0       20240104  출발시간       0   ST-1014  신정3동_101_1    ST-676  고척2동_035_1   \n",
       "1       20240104  출발시간       0   ST-1017   목5동_059_1    ST-310   목4동_047_1   \n",
       "2       20240104  출발시간       0   ST-1055   강일동_001_1   ST-2744   강일동_001_5   \n",
       "3       20240104  출발시간       0   ST-1082   장지동_019_1   ST-2599   장지동_012_3   \n",
       "4       20240104  출발시간       0   ST-1092  풍납2동_026_1    ST-502  성내1동_007_1   \n",
       "...          ...   ...     ...       ...         ...       ...         ...   \n",
       "180069  20240104  도착시간    2355    ST-914  상계5동_036_1   ST-2711  중계1동_001_1   \n",
       "180070  20240104  도착시간    2355    ST-935  방배4동_002_1   ST-1916  방배본동_030_1   \n",
       "180071  20240104  도착시간    2355    ST-942  면목5동_015_1    ST-262  장안2동_053_1   \n",
       "180072  20240104  도착시간    2355     ST-96   상암동_060_1   ST-3272  성산2동_038_1   \n",
       "180073  20240104  도착시간    2355    ST-997   목4동_021_1   ST-1013   목3동_003_1   \n",
       "\n",
       "        전체_건수  전체_이용_분  전체_이용_거리  \n",
       "0           1        6      2320  \n",
       "1           1        6       909  \n",
       "2           1       93     12860  \n",
       "3           1        5       910  \n",
       "4           1        5      1063  \n",
       "...       ...      ...       ...  \n",
       "180069      1       30      1633  \n",
       "180070      1        5      1961  \n",
       "180071      1       19      2777  \n",
       "180072      1        4       607  \n",
       "180073      1       14      2660  \n",
       "\n",
       "[180074 rows x 10 columns]"
      ]
     },
     "execution_count": 72,
     "metadata": {},
     "output_type": "execute_result"
    }
   ],
   "source": [
    "file_path1 = 'D:\\Code\\(최종)따릉이/tpss_bcycl_od_statnhm_20240104.csv'\n",
    "\n",
    "df_1 = pd.read_csv(file_path1,encoding='cp949')\n",
    "\n",
    "df_1\n"
   ]
  },
  {
   "cell_type": "code",
   "execution_count": null,
   "metadata": {},
   "outputs": [],
   "source": []
  },
  {
   "cell_type": "code",
   "execution_count": 89,
   "metadata": {},
   "outputs": [
    {
     "name": "stdout",
     "output_type": "stream",
     "text": [
      "시작_대여소_ID\n",
      "ST-2031    991\n",
      "ST-1718    571\n",
      "ST-2045    546\n",
      "ST-1065    451\n",
      "ST-413     440\n",
      "ST-668     419\n",
      "ST-891     395\n",
      "ST-1938    369\n",
      "ST-2871    350\n",
      "ST-2557    343\n",
      "Name: count, dtype: int64\n"
     ]
    }
   ],
   "source": [
    "\n",
    "s_rent_id = df_1['시작_대여소_ID'].value_counts(ascending=False)[:10]\n",
    "\n",
    "print(s_rent_id)\n",
    "\n",
    "# ST-1014에서 대여한 사람들의 정보\n",
    "\n",
    "condition = df_1['시작_대여소_ID']=='ST-1014'\n",
    "\n"
   ]
  },
  {
   "cell_type": "code",
   "execution_count": null,
   "metadata": {},
   "outputs": [],
   "source": [
    "# ST-1014에서 출발한 인원들 중 "
   ]
  },
  {
   "cell_type": "code",
   "execution_count": null,
   "metadata": {},
   "outputs": [
    {
     "name": "stdout",
     "output_type": "stream",
     "text": [
      "종료_대여소_ID\n",
      "ST-2031    979\n",
      "X          671\n",
      "ST-1718    611\n",
      "ST-2045    501\n",
      "ST-1065    448\n",
      "ST-413     442\n",
      "ST-668     421\n",
      "ST-891     399\n",
      "ST-18      387\n",
      "ST-1938    378\n",
      "Name: count, dtype: int64\n",
      "기준_날짜     집계_기준  기준_시간대  시작_대여소_ID  시작_대여소명      종료_대여소_ID  종료_대여소명     전체_건수  전체_이용_분  전체_이용_거리\n",
      "20240104  도착시간   10      ST-2476    공항동_001_2    ST-2031    가양1동_039_8  1      7        1418        1\n",
      "          출발시간   920     ST-3251    가양1동_039_22  ST-2031    가양1동_039_8  2      8        1960        1\n",
      "                 930     ST-2049    발산1동_012_4   ST-2031    가양1동_039_8  1      10       1535        1\n",
      "                 935     ST-1709    가양1동_039_5   ST-2031    가양1동_039_8  1      101      700         1\n",
      "                 945     ST-1351    등촌3동_054_1   ST-2031    가양1동_039_8  1      113      3180        1\n",
      "                                                                                                   ..\n",
      "          도착시간   1735    ST-975     방화1동_055_2   ST-2031    가양1동_039_8  1      4        839         1\n",
      "                 1740    ST-1676    발산1동_059_3   ST-2031    가양1동_039_8  1      13       1633        1\n",
      "                         ST-1694    화곡3동_003_1   ST-2031    가양1동_039_8  1      21       2866        1\n",
      "                         ST-2033    가양1동_039_10  ST-2031    가양1동_039_8  3      18       2965        1\n",
      "          출발시간   2320    ST-1709    가양1동_039_5   ST-2031    가양1동_039_8  1      4        796         1\n",
      "Name: count, Length: 979, dtype: int64\n"
     ]
    }
   ],
   "source": [
    "\n",
    "s_return_id = df_1.loc[:,'종료_대여소_ID'].value_counts(ascending=False)[:10]\n",
    "\n",
    "print(s_return_id)\n",
    "\n",
    "condition2 = df_1.loc[:,'종료_대여소_ID']=='ST-2031'\n",
    "\n",
    "counts = df_1.loc[condition2,:].value_counts()\n",
    "\n",
    "print(counts)"
   ]
  },
  {
   "cell_type": "code",
   "execution_count": null,
   "metadata": {},
   "outputs": [
    {
     "name": "stdout",
     "output_type": "stream",
     "text": [
      "1월 4일 데이터프레임 : \n",
      "           기준_날짜  기준_시간대 시작_대여소_ID     시작_대여소명 종료_대여소_ID  전체_이용_분  전체_이용_거리\n",
      "0       20240104       0   ST-1014  신정3동_101_1    ST-676        6      2320\n",
      "1       20240104       0   ST-1017   목5동_059_1    ST-310        6       909\n",
      "2       20240104       0   ST-1055   강일동_001_1   ST-2744       93     12860\n",
      "3       20240104       0   ST-1082   장지동_019_1   ST-2599        5       910\n",
      "4       20240104       0   ST-1092  풍납2동_026_1    ST-502        5      1063\n",
      "...          ...     ...       ...         ...       ...      ...       ...\n",
      "180069  20240104    2355    ST-914  상계5동_036_1   ST-2711       30      1633\n",
      "180070  20240104    2355    ST-935  방배4동_002_1   ST-1916        5      1961\n",
      "180071  20240104    2355    ST-942  면목5동_015_1    ST-262       19      2777\n",
      "180072  20240104    2355     ST-96   상암동_060_1   ST-3272        4       607\n",
      "180073  20240104    2355    ST-997   목4동_021_1   ST-1013       14      2660\n",
      "\n",
      "[180074 rows x 7 columns]\n"
     ]
    }
   ],
   "source": [
    "print(f'1월 4일 데이터프레임 : \\n{df_1}')"
   ]
  },
  {
   "cell_type": "markdown",
   "metadata": {},
   "source": [
    "## EDA"
   ]
  },
  {
   "cell_type": "code",
   "execution_count": null,
   "metadata": {},
   "outputs": [],
   "source": [
    "### 사용시간대별 총 이동거리의 시각화\n",
    "#sns.kdeplot(data=df_1, x='Time', hue='Total Distance')\n",
    "#plt.show()\n"
   ]
  },
  {
   "cell_type": "code",
   "execution_count": null,
   "metadata": {},
   "outputs": [
    {
     "data": {
      "image/png": "[encoded data removed]",
      "text/plain": [
       "<Figure size 640x480 with 1 Axes>"
      ]
     },
     "metadata": {},
     "output_type": "display_data"
    }
   ],
   "source": [
    "### 사용시간대별 총 이용시간의 시각화\n",
    "sns.scatterplot(data=df_1, x='전체_이용_분', y='전체_이용_거리')\n",
    "plt.show()\n"
   ]
  },
  {
   "cell_type": "markdown",
   "metadata": {},
   "source": [
    "## 서울시 따릉이 일별 이용 현황(20240105)"
   ]
  },
  {
   "cell_type": "code",
   "execution_count": null,
   "metadata": {},
   "outputs": [],
   "source": [
    "file_path2 = 'D:\\Code\\(최종)따릉이/tpss_bcycl_od_statnhm_20240105.csv'\n",
    "\n",
    "df_2 = pd.read_csv(file_path2, encoding='cp949')\n",
    "\n",
    "print(f'20240105 데이터프레임 : \\n{df_2}')\n",
    "\n",
    "df_2.isnull().sum()"
   ]
  },
  {
   "cell_type": "code",
   "execution_count": null,
   "metadata": {},
   "outputs": [],
   "source": [
    "df_2.drop(columns=['종료_대여소명'],inplace=True)\n",
    "\n",
    "print(df_2)"
   ]
  },
  {
   "cell_type": "markdown",
   "metadata": {},
   "source": [
    "### 불필요한 컬럼 제거"
   ]
  },
  {
   "cell_type": "code",
   "execution_count": null,
   "metadata": {},
   "outputs": [],
   "source": [
    "columns = df_2.columns\n",
    "print(columns)"
   ]
  },
  {
   "cell_type": "code",
   "execution_count": null,
   "metadata": {},
   "outputs": [],
   "source": [
    "df_2.drop(columns=['집계_기준', '전체_건수'],inplace=True)\n",
    "print(df_2)"
   ]
  },
  {
   "cell_type": "code",
   "execution_count": null,
   "metadata": {},
   "outputs": [],
   "source": [
    "print(f'1월 5일 데이터프레임 : \\n{df_2}')"
   ]
  },
  {
   "cell_type": "markdown",
   "metadata": {},
   "source": [
    "## EDA"
   ]
  },
  {
   "cell_type": "code",
   "execution_count": null,
   "metadata": {},
   "outputs": [],
   "source": [
    "### 사용시간대별 총 이동거리의 시각화\n",
    "#sns.kdeplot(data=df_1, x='Time', hue='Total Distance')\n",
    "#plt.show()\n"
   ]
  },
  {
   "cell_type": "code",
   "execution_count": null,
   "metadata": {},
   "outputs": [],
   "source": [
    "### 사용시간대별 총 이용시간의 시각화\n",
    "sns.scatterplot(data=df_2, x='Used_Time', y='Total Distance')\n",
    "plt.show()\n"
   ]
  },
  {
   "cell_type": "markdown",
   "metadata": {},
   "source": [
    "## 서울시 따릉이 일별 이용 현황(20240106)"
   ]
  },
  {
   "cell_type": "code",
   "execution_count": null,
   "metadata": {},
   "outputs": [],
   "source": [
    "file_path3 = 'D:\\Code\\(최종)따릉이/tpss_bcycl_od_statnhm_20240106.csv'\n",
    "\n",
    "df_3 = pd.read_csv(file_path3, encoding='cp949')\n",
    "\n",
    "print(f'20240106 데이터프레임 : \\n{df_3}')\n",
    "\n",
    "# 결측치 확인\n",
    "\n",
    "df_3.isnull().sum()"
   ]
  },
  {
   "cell_type": "code",
   "execution_count": null,
   "metadata": {},
   "outputs": [],
   "source": [
    "df_3.drop(columns=['종료_대여소명'],inplace=True)\n",
    "\n",
    "print(df_3)"
   ]
  },
  {
   "cell_type": "markdown",
   "metadata": {},
   "source": [
    "### 불필요한 컬럼 제거"
   ]
  },
  {
   "cell_type": "code",
   "execution_count": null,
   "metadata": {},
   "outputs": [],
   "source": [
    "columns = df_3.columns\n",
    "print(columns)"
   ]
  },
  {
   "cell_type": "code",
   "execution_count": null,
   "metadata": {},
   "outputs": [],
   "source": [
    "df_3.drop(columns=['집계_기준', '전체_건수'],inplace=True)\n",
    "print(df_3)"
   ]
  },
  {
   "cell_type": "code",
   "execution_count": null,
   "metadata": {},
   "outputs": [],
   "source": [
    "print(f'1월 5일 데이터프레임 : \\n{df_3}')"
   ]
  },
  {
   "cell_type": "markdown",
   "metadata": {},
   "source": [
    "## EDA"
   ]
  },
  {
   "cell_type": "code",
   "execution_count": null,
   "metadata": {},
   "outputs": [],
   "source": [
    "### 사용시간대별 총 이동거리의 시각화\n",
    "#sns.kdeplot(data=df_1, x='Time', hue='Total Distance')\n",
    "#plt.show()\n"
   ]
  },
  {
   "cell_type": "code",
   "execution_count": null,
   "metadata": {},
   "outputs": [],
   "source": [
    "### 사용시간대별 총 이용시간의 시각화\n",
    "sns.scatterplot(data=df_3, x='Used_Time', y='Total Distance')\n",
    "plt.show()\n"
   ]
  }
 ],
 "metadata": {
  "kernelspec": {
   "display_name": "NvulyTarget",
   "language": "python",
   "name": "conda"
  },
  "language_info": {
   "codemirror_mode": {
    "name": "ipython",
    "version": 3
   },
   "file_extension": ".py",
   "mimetype": "text/x-python",
   "name": "python",
   "nbconvert_exporter": "python",
   "pygments_lexer": "ipython3",
   "version": "3.11.5"
  }
 },
 "nbformat": 4,
 "nbformat_minor": 2
}
